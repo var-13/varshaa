{
  "nbformat": 4,
  "nbformat_minor": 0,
  "metadata": {
    "colab": {
      "provenance": [],
      "authorship_tag": "ABX9TyNC42X0TSnNgmgE85dBVdxU",
      "include_colab_link": true
    },
    "kernelspec": {
      "name": "python3",
      "display_name": "Python 3"
    },
    "language_info": {
      "name": "python"
    }
  },
  "cells": [
    {
      "cell_type": "markdown",
      "metadata": {
        "id": "view-in-github",
        "colab_type": "text"
      },
      "source": [
        "<a href=\"https://colab.research.google.com/github/var-13/varshaa/blob/main/Untitled5.ipynb\" target=\"_parent\"><img src=\"https://colab.research.google.com/assets/colab-badge.svg\" alt=\"Open In Colab\"/></a>"
      ]
    },
    {
      "cell_type": "code",
      "execution_count": null,
      "metadata": {
        "colab": {
          "base_uri": "https://localhost:8080/"
        },
        "id": "CgoRUAVF4dk3",
        "outputId": "b11f9cba-252d-47b4-f8f8-82cfad4623ad"
      },
      "outputs": [
        {
          "output_type": "stream",
          "name": "stdout",
          "text": [
            "Reading package lists... Done\n",
            "Building dependency tree... Done\n",
            "Reading state information... Done\n",
            "The following NEW packages will be installed:\n",
            "  poppler-utils\n",
            "0 upgraded, 1 newly installed, 0 to remove and 29 not upgraded.\n",
            "Need to get 186 kB of archives.\n",
            "After this operation, 696 kB of additional disk space will be used.\n",
            "Get:1 http://archive.ubuntu.com/ubuntu jammy-updates/main amd64 poppler-utils amd64 22.02.0-2ubuntu0.6 [186 kB]\n",
            "Fetched 186 kB in 1s (314 kB/s)\n",
            "Selecting previously unselected package poppler-utils.\n"
          ]
        }
      ],
      "source": [
        "# Step 1: Setup Environment\n",
        "!apt-get install -y poppler-utils\n",
        "!apt-get install -y tesseract-ocr\n",
        "!pip install pytesseract\n",
        "!pip install opencv-python-headless\n",
        "!pip install pdf2image\n",
        "\n",
        "import cv2\n",
        "import pytesseract\n",
        "from google.colab import files\n",
        "from PIL import Image\n",
        "import numpy as np\n",
        "import matplotlib.pyplot as plt\n",
        "from pdf2image import convert_from_path\n",
        "\n",
        "# Set the path for pytesseract to locate the Tesseract OCR executable\n",
        "pytesseract.pytesseract.tesseract_cmd = '/usr/bin/tesseract'\n",
        "\n",
        "# Step 2: Upload Images and PDFs\n",
        "uploaded = files.upload()\n",
        "\n",
        "# Step 3: Process Uploaded Files\n",
        "for filename in uploaded.keys():\n",
        "    if filename.lower().endswith('.pdf'):\n",
        "        # Convert PDF to images\n",
        "        images = convert_from_path(filename)\n",
        "        for i, img in enumerate(images):\n",
        "            # Process each page of the PDF\n",
        "            img_cv = np.array(img)\n",
        "            plt.imshow(cv2.cvtColor(img_cv, cv2.COLOR_BGR2RGB))\n",
        "            plt.axis('off')\n",
        "            plt.title(f'Page {i + 1}')\n",
        "            plt.show()\n",
        "\n",
        "            # Preprocess and extract text\n",
        "            gray = cv2.cvtColor(img_cv, cv2.COLOR_BGR2GRAY)\n",
        "            _, binary = cv2.threshold(gray, 127, 255, cv2.THRESH_BINARY_INV)\n",
        "            plt.imshow(binary, cmap='gray')\n",
        "            plt.axis('off')\n",
        "            plt.show()\n",
        "            text = pytesseract.image_to_string(binary, lang='eng')\n",
        "            print(f\"Extracted Text from Page {i + 1}:\")\n",
        "            print(text)\n",
        "\n",
        "    elif filename.lower().endswith(('.png', '.jpg', '.jpeg')):\n",
        "        # Process image files\n",
        "        img = Image.open(filename)\n",
        "        img_cv = np.array(img)\n",
        "\n",
        "        plt.imshow(cv2.cvtColor(img_cv, cv2.COLOR_BGR2RGB))\n",
        "        plt.axis('off')\n",
        "        plt.show()\n",
        "\n",
        "        # Preprocess and extract text\n",
        "        gray = cv2.cvtColor(img_cv, cv2.COLOR_BGR2GRAY)\n",
        "        _, binary = cv2.threshold(gray, 127, 255, cv2.THRESH_BINARY_INV)\n",
        "        plt.imshow(binary, cmap='gray')\n",
        "        plt.axis('off')\n",
        "        plt.show()\n",
        "        text = pytesseract.image_to_string(binary, lang='eng')\n",
        "        print(\"Extracted Text:\")\n",
        "        print(text)"
      ]
    }
  ]
}